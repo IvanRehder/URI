{
 "cells": [
  {
   "cell_type": "code",
   "execution_count": 23,
   "metadata": {},
   "outputs": [],
   "source": [
    "salario = float((input()))"
   ]
  },
  {
   "cell_type": "code",
   "execution_count": 24,
   "metadata": {},
   "outputs": [],
   "source": [
    "if (0 < salario <= 400):\n",
    "    taxa = 15\n",
    "elif (400 < salario <= 800):\n",
    "    taxa = 12\n",
    "elif (800 < salario <= 1200):\n",
    "    taxa = 10\n",
    "elif (1200 < salario <= 2000):\n",
    "    taxa = 7\n",
    "elif (2000 < salario):\n",
    "    taxa = 4\n",
    "\n",
    "aumento = salario * taxa/100\n",
    "novo_salario = salario + aumento"
   ]
  },
  {
   "cell_type": "code",
   "execution_count": 25,
   "metadata": {},
   "outputs": [
    {
     "name": "stdout",
     "output_type": "stream",
     "text": [
      "Novo salario: 2140.0\n",
      "Reajuste ganho: 140.0\n",
      "Em percentual: 7 %\n"
     ]
    }
   ],
   "source": [
    "print('Novo salario: {:.2f}'.format(novo_salario))\n",
    "print('Reajuste ganho: {:.2f}'.format(aumento))\n",
    "print('Em percentual: {} %'.format(taxa))"
   ]
  }
 ],
 "metadata": {
  "interpreter": {
   "hash": "2b5aa1d9b50ce118d53ac4b14f40ca39e58b70ab2b6af758e7171492e820c53c"
  },
  "kernelspec": {
   "display_name": "Python 3.9.4 64-bit",
   "language": "python",
   "name": "python3"
  },
  "language_info": {
   "codemirror_mode": {
    "name": "ipython",
    "version": 3
   },
   "file_extension": ".py",
   "mimetype": "text/x-python",
   "name": "python",
   "nbconvert_exporter": "python",
   "pygments_lexer": "ipython3",
   "version": "3.9.4"
  },
  "orig_nbformat": 4
 },
 "nbformat": 4,
 "nbformat_minor": 2
}
